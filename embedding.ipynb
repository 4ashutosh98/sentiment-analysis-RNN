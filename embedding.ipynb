{
 "cells": [
  {
   "cell_type": "code",
   "execution_count": 1,
   "metadata": {},
   "outputs": [],
   "source": [
    "from tensorflow.keras.preprocessing.text import one_hot"
   ]
  },
  {
   "cell_type": "code",
   "execution_count": 2,
   "metadata": {},
   "outputs": [],
   "source": [
    "### sentences\n",
    "sent=[  'the glass of milk',\n",
    "     'the glass of juice',\n",
    "     'the cup of tea',\n",
    "    'I am a good boy',\n",
    "     'I am a good developer',\n",
    "     'understand the meaning of words',\n",
    "     'your videos are good',]"
   ]
  },
  {
   "cell_type": "code",
   "execution_count": 3,
   "metadata": {},
   "outputs": [],
   "source": [
    "vocab_size = 10000"
   ]
  },
  {
   "cell_type": "code",
   "execution_count": 4,
   "metadata": {},
   "outputs": [],
   "source": [
    "one_hot_representation = [one_hot(sentence, vocab_size) for sentence in sent]"
   ]
  },
  {
   "cell_type": "code",
   "execution_count": 5,
   "metadata": {},
   "outputs": [
    {
     "data": {
      "text/plain": [
       "[[1647, 5827, 4594, 3259],\n",
       " [1647, 5827, 4594, 3746],\n",
       " [1647, 272, 4594, 363],\n",
       " [9332, 6662, 7417, 5076, 2456],\n",
       " [9332, 6662, 7417, 5076, 2312],\n",
       " [7313, 1647, 9474, 4594, 921],\n",
       " [4958, 6334, 3587, 5076]]"
      ]
     },
     "execution_count": 5,
     "metadata": {},
     "output_type": "execute_result"
    }
   ],
   "source": [
    "one_hot_representation"
   ]
  },
  {
   "cell_type": "code",
   "execution_count": 6,
   "metadata": {},
   "outputs": [],
   "source": [
    "from tensorflow.keras.layers import Embedding\n",
    "from tensorflow.keras.utils import pad_sequences\n",
    "from tensorflow.keras.models import Sequential\n",
    "import numpy as np"
   ]
  },
  {
   "cell_type": "code",
   "execution_count": 7,
   "metadata": {},
   "outputs": [
    {
     "data": {
      "text/plain": [
       "array([[   0, 1647, 5827, 4594, 3259],\n",
       "       [   0, 1647, 5827, 4594, 3746],\n",
       "       [   0, 1647,  272, 4594,  363],\n",
       "       [9332, 6662, 7417, 5076, 2456],\n",
       "       [9332, 6662, 7417, 5076, 2312],\n",
       "       [7313, 1647, 9474, 4594,  921],\n",
       "       [   0, 4958, 6334, 3587, 5076]])"
      ]
     },
     "execution_count": 7,
     "metadata": {},
     "output_type": "execute_result"
    }
   ],
   "source": [
    "padded_sentences = pad_sequences(one_hot_representation, padding='pre', maxlen = max([len(sentence.split()) for sentence in sent]))\n",
    "padded_sentences"
   ]
  },
  {
   "cell_type": "code",
   "execution_count": 8,
   "metadata": {},
   "outputs": [],
   "source": [
    "dim = 10"
   ]
  },
  {
   "cell_type": "code",
   "execution_count": 9,
   "metadata": {},
   "outputs": [],
   "source": [
    "model = Sequential()\n",
    "model.add(Embedding(input_dim=vocab_size, output_dim=dim))\n",
    "model.compile('adam', 'mse')"
   ]
  },
  {
   "cell_type": "code",
   "execution_count": 10,
   "metadata": {},
   "outputs": [
    {
     "data": {
      "text/html": [
       "<pre style=\"white-space:pre;overflow-x:auto;line-height:normal;font-family:Menlo,'DejaVu Sans Mono',consolas,'Courier New',monospace\"><span style=\"font-weight: bold\">Model: \"sequential\"</span>\n",
       "</pre>\n"
      ],
      "text/plain": [
       "\u001b[1mModel: \"sequential\"\u001b[0m\n"
      ]
     },
     "metadata": {},
     "output_type": "display_data"
    },
    {
     "data": {
      "text/html": [
       "<pre style=\"white-space:pre;overflow-x:auto;line-height:normal;font-family:Menlo,'DejaVu Sans Mono',consolas,'Courier New',monospace\">┏━━━━━━━━━━━━━━━━━━━━━━━━━━━━━━━━━┳━━━━━━━━━━━━━━━━━━━━━━━━┳━━━━━━━━━━━━━━━┓\n",
       "┃<span style=\"font-weight: bold\"> Layer (type)                    </span>┃<span style=\"font-weight: bold\"> Output Shape           </span>┃<span style=\"font-weight: bold\">       Param # </span>┃\n",
       "┡━━━━━━━━━━━━━━━━━━━━━━━━━━━━━━━━━╇━━━━━━━━━━━━━━━━━━━━━━━━╇━━━━━━━━━━━━━━━┩\n",
       "│ embedding (<span style=\"color: #0087ff; text-decoration-color: #0087ff\">Embedding</span>)           │ ?                      │   <span style=\"color: #00af00; text-decoration-color: #00af00\">0</span> (unbuilt) │\n",
       "└─────────────────────────────────┴────────────────────────┴───────────────┘\n",
       "</pre>\n"
      ],
      "text/plain": [
       "┏━━━━━━━━━━━━━━━━━━━━━━━━━━━━━━━━━┳━━━━━━━━━━━━━━━━━━━━━━━━┳━━━━━━━━━━━━━━━┓\n",
       "┃\u001b[1m \u001b[0m\u001b[1mLayer (type)                   \u001b[0m\u001b[1m \u001b[0m┃\u001b[1m \u001b[0m\u001b[1mOutput Shape          \u001b[0m\u001b[1m \u001b[0m┃\u001b[1m \u001b[0m\u001b[1m      Param #\u001b[0m\u001b[1m \u001b[0m┃\n",
       "┡━━━━━━━━━━━━━━━━━━━━━━━━━━━━━━━━━╇━━━━━━━━━━━━━━━━━━━━━━━━╇━━━━━━━━━━━━━━━┩\n",
       "│ embedding (\u001b[38;5;33mEmbedding\u001b[0m)           │ ?                      │   \u001b[38;5;34m0\u001b[0m (unbuilt) │\n",
       "└─────────────────────────────────┴────────────────────────┴───────────────┘\n"
      ]
     },
     "metadata": {},
     "output_type": "display_data"
    },
    {
     "data": {
      "text/html": [
       "<pre style=\"white-space:pre;overflow-x:auto;line-height:normal;font-family:Menlo,'DejaVu Sans Mono',consolas,'Courier New',monospace\"><span style=\"font-weight: bold\"> Total params: </span><span style=\"color: #00af00; text-decoration-color: #00af00\">0</span> (0.00 B)\n",
       "</pre>\n"
      ],
      "text/plain": [
       "\u001b[1m Total params: \u001b[0m\u001b[38;5;34m0\u001b[0m (0.00 B)\n"
      ]
     },
     "metadata": {},
     "output_type": "display_data"
    },
    {
     "data": {
      "text/html": [
       "<pre style=\"white-space:pre;overflow-x:auto;line-height:normal;font-family:Menlo,'DejaVu Sans Mono',consolas,'Courier New',monospace\"><span style=\"font-weight: bold\"> Trainable params: </span><span style=\"color: #00af00; text-decoration-color: #00af00\">0</span> (0.00 B)\n",
       "</pre>\n"
      ],
      "text/plain": [
       "\u001b[1m Trainable params: \u001b[0m\u001b[38;5;34m0\u001b[0m (0.00 B)\n"
      ]
     },
     "metadata": {},
     "output_type": "display_data"
    },
    {
     "data": {
      "text/html": [
       "<pre style=\"white-space:pre;overflow-x:auto;line-height:normal;font-family:Menlo,'DejaVu Sans Mono',consolas,'Courier New',monospace\"><span style=\"font-weight: bold\"> Non-trainable params: </span><span style=\"color: #00af00; text-decoration-color: #00af00\">0</span> (0.00 B)\n",
       "</pre>\n"
      ],
      "text/plain": [
       "\u001b[1m Non-trainable params: \u001b[0m\u001b[38;5;34m0\u001b[0m (0.00 B)\n"
      ]
     },
     "metadata": {},
     "output_type": "display_data"
    }
   ],
   "source": [
    "model.summary()"
   ]
  },
  {
   "cell_type": "code",
   "execution_count": 11,
   "metadata": {},
   "outputs": [
    {
     "name": "stdout",
     "output_type": "stream",
     "text": [
      "\u001b[1m1/1\u001b[0m \u001b[32m━━━━━━━━━━━━━━━━━━━━\u001b[0m\u001b[37m\u001b[0m \u001b[1m0s\u001b[0m 153ms/step\n"
     ]
    },
    {
     "data": {
      "text/plain": [
       "array([[[-0.04189796,  0.04903508,  0.01200806, -0.01805384,\n",
       "          0.00566582,  0.02599874,  0.0334678 , -0.01968013,\n",
       "          0.04306395,  0.0160008 ],\n",
       "        [ 0.04180033,  0.00529736,  0.006359  , -0.02413044,\n",
       "         -0.02957466,  0.02850692,  0.0016461 , -0.00619382,\n",
       "          0.04910468, -0.03009843],\n",
       "        [-0.03841501, -0.0305404 , -0.03843517, -0.04064156,\n",
       "          0.00289638,  0.01099779,  0.00940251, -0.01633696,\n",
       "          0.03907545,  0.00485196],\n",
       "        [-0.01065652, -0.04686711,  0.02351408,  0.02761397,\n",
       "          0.04228559, -0.03288053,  0.03040839,  0.03887669,\n",
       "         -0.01656196, -0.00971768],\n",
       "        [-0.04969964, -0.02908483, -0.01670462, -0.04676771,\n",
       "          0.02552829,  0.04401973, -0.02176762,  0.01237274,\n",
       "         -0.0073606 ,  0.00665575]],\n",
       "\n",
       "       [[-0.04189796,  0.04903508,  0.01200806, -0.01805384,\n",
       "          0.00566582,  0.02599874,  0.0334678 , -0.01968013,\n",
       "          0.04306395,  0.0160008 ],\n",
       "        [ 0.04180033,  0.00529736,  0.006359  , -0.02413044,\n",
       "         -0.02957466,  0.02850692,  0.0016461 , -0.00619382,\n",
       "          0.04910468, -0.03009843],\n",
       "        [-0.03841501, -0.0305404 , -0.03843517, -0.04064156,\n",
       "          0.00289638,  0.01099779,  0.00940251, -0.01633696,\n",
       "          0.03907545,  0.00485196],\n",
       "        [-0.01065652, -0.04686711,  0.02351408,  0.02761397,\n",
       "          0.04228559, -0.03288053,  0.03040839,  0.03887669,\n",
       "         -0.01656196, -0.00971768],\n",
       "        [-0.03931626, -0.03345285, -0.03982115, -0.02780144,\n",
       "          0.04983785,  0.03568819, -0.04951778, -0.00470256,\n",
       "         -0.01300043, -0.04916569]],\n",
       "\n",
       "       [[-0.04189796,  0.04903508,  0.01200806, -0.01805384,\n",
       "          0.00566582,  0.02599874,  0.0334678 , -0.01968013,\n",
       "          0.04306395,  0.0160008 ],\n",
       "        [ 0.04180033,  0.00529736,  0.006359  , -0.02413044,\n",
       "         -0.02957466,  0.02850692,  0.0016461 , -0.00619382,\n",
       "          0.04910468, -0.03009843],\n",
       "        [-0.0462767 ,  0.02538538,  0.00200897,  0.04217649,\n",
       "         -0.00942384, -0.0289753 ,  0.00055791, -0.0141979 ,\n",
       "          0.0118363 ,  0.01258023],\n",
       "        [-0.01065652, -0.04686711,  0.02351408,  0.02761397,\n",
       "          0.04228559, -0.03288053,  0.03040839,  0.03887669,\n",
       "         -0.01656196, -0.00971768],\n",
       "        [-0.00540873,  0.03652993,  0.03028791,  0.03386749,\n",
       "         -0.00763711, -0.0094408 , -0.03496854,  0.03323965,\n",
       "          0.04786514, -0.00527521]],\n",
       "\n",
       "       [[-0.00067132, -0.00059066, -0.00105702,  0.02493412,\n",
       "          0.0159915 , -0.01725793,  0.04416073, -0.02589589,\n",
       "          0.00444932, -0.04732358],\n",
       "        [-0.02809057,  0.03287734, -0.02178782, -0.03472368,\n",
       "         -0.03851944, -0.00081765, -0.02771261,  0.00064922,\n",
       "         -0.01859076,  0.04685377],\n",
       "        [ 0.00851912,  0.03292802, -0.04319733,  0.04821435,\n",
       "         -0.01522605,  0.02911418, -0.04902833,  0.03764075,\n",
       "         -0.02122929,  0.02360929],\n",
       "        [-0.0088845 , -0.04041268, -0.00143634,  0.04853667,\n",
       "         -0.00151931,  0.01644566,  0.00469019,  0.03114612,\n",
       "          0.01559423,  0.00942053],\n",
       "        [-0.02412448,  0.01180096,  0.02499622, -0.04824399,\n",
       "         -0.04059584,  0.03441225,  0.04903528, -0.00136749,\n",
       "          0.03626065, -0.04860164]],\n",
       "\n",
       "       [[-0.00067132, -0.00059066, -0.00105702,  0.02493412,\n",
       "          0.0159915 , -0.01725793,  0.04416073, -0.02589589,\n",
       "          0.00444932, -0.04732358],\n",
       "        [-0.02809057,  0.03287734, -0.02178782, -0.03472368,\n",
       "         -0.03851944, -0.00081765, -0.02771261,  0.00064922,\n",
       "         -0.01859076,  0.04685377],\n",
       "        [ 0.00851912,  0.03292802, -0.04319733,  0.04821435,\n",
       "         -0.01522605,  0.02911418, -0.04902833,  0.03764075,\n",
       "         -0.02122929,  0.02360929],\n",
       "        [-0.0088845 , -0.04041268, -0.00143634,  0.04853667,\n",
       "         -0.00151931,  0.01644566,  0.00469019,  0.03114612,\n",
       "          0.01559423,  0.00942053],\n",
       "        [-0.03942585, -0.03075794, -0.04447185,  0.04204826,\n",
       "         -0.01072905,  0.00143781, -0.01010119, -0.01038132,\n",
       "          0.04228153,  0.04338202]],\n",
       "\n",
       "       [[ 0.02691403,  0.02845829, -0.04077888, -0.01188775,\n",
       "         -0.01274248,  0.00839014, -0.01075872, -0.01336987,\n",
       "          0.03683027, -0.0415873 ],\n",
       "        [ 0.04180033,  0.00529736,  0.006359  , -0.02413044,\n",
       "         -0.02957466,  0.02850692,  0.0016461 , -0.00619382,\n",
       "          0.04910468, -0.03009843],\n",
       "        [-0.00074505, -0.00651846, -0.03677798,  0.04377998,\n",
       "         -0.00571407,  0.0151436 ,  0.02185227, -0.02282586,\n",
       "          0.01970923,  0.03093812],\n",
       "        [-0.01065652, -0.04686711,  0.02351408,  0.02761397,\n",
       "          0.04228559, -0.03288053,  0.03040839,  0.03887669,\n",
       "         -0.01656196, -0.00971768],\n",
       "        [-0.00274075, -0.04977319, -0.00638628,  0.02584206,\n",
       "         -0.02385861, -0.0148739 ,  0.03767497,  0.03299142,\n",
       "          0.03438649,  0.01726058]],\n",
       "\n",
       "       [[-0.04189796,  0.04903508,  0.01200806, -0.01805384,\n",
       "          0.00566582,  0.02599874,  0.0334678 , -0.01968013,\n",
       "          0.04306395,  0.0160008 ],\n",
       "        [-0.01913323, -0.03077229, -0.04156324, -0.01133633,\n",
       "          0.01078235,  0.00915911, -0.04907237, -0.03506495,\n",
       "          0.03452263, -0.00400545],\n",
       "        [-0.00726935,  0.02940297,  0.01180881, -0.00611564,\n",
       "          0.04700362, -0.03314137,  0.04653186, -0.0032781 ,\n",
       "          0.00735016, -0.02206085],\n",
       "        [-0.04678142, -0.02926023, -0.04285076, -0.04730279,\n",
       "          0.0352908 ,  0.03128878,  0.01600169,  0.03245778,\n",
       "          0.00519762,  0.01373328],\n",
       "        [-0.0088845 , -0.04041268, -0.00143634,  0.04853667,\n",
       "         -0.00151931,  0.01644566,  0.00469019,  0.03114612,\n",
       "          0.01559423,  0.00942053]]], dtype=float32)"
      ]
     },
     "execution_count": 11,
     "metadata": {},
     "output_type": "execute_result"
    }
   ],
   "source": [
    "model.predict(padded_sentences)"
   ]
  },
  {
   "cell_type": "code",
   "execution_count": 12,
   "metadata": {},
   "outputs": [
    {
     "name": "stdout",
     "output_type": "stream",
     "text": [
      "\u001b[1m1/1\u001b[0m \u001b[32m━━━━━━━━━━━━━━━━━━━━\u001b[0m\u001b[37m\u001b[0m \u001b[1m0s\u001b[0m 38ms/step\n"
     ]
    },
    {
     "data": {
      "text/plain": [
       "array([[-0.04189796,  0.04903508,  0.01200806, -0.01805384,  0.00566582,\n",
       "         0.02599874,  0.0334678 , -0.01968013,  0.04306395,  0.0160008 ],\n",
       "       [ 0.04180033,  0.00529736,  0.006359  , -0.02413044, -0.02957466,\n",
       "         0.02850692,  0.0016461 , -0.00619382,  0.04910468, -0.03009843],\n",
       "       [-0.03841501, -0.0305404 , -0.03843517, -0.04064156,  0.00289638,\n",
       "         0.01099779,  0.00940251, -0.01633696,  0.03907545,  0.00485196],\n",
       "       [-0.01065652, -0.04686711,  0.02351408,  0.02761397,  0.04228559,\n",
       "        -0.03288053,  0.03040839,  0.03887669, -0.01656196, -0.00971768],\n",
       "       [-0.04969964, -0.02908483, -0.01670462, -0.04676771,  0.02552829,\n",
       "         0.04401973, -0.02176762,  0.01237274, -0.0073606 ,  0.00665575]],\n",
       "      dtype=float32)"
      ]
     },
     "execution_count": 12,
     "metadata": {},
     "output_type": "execute_result"
    }
   ],
   "source": [
    "model.predict(padded_sentences)[0]"
   ]
  }
 ],
 "metadata": {
  "kernelspec": {
   "display_name": "annrnn",
   "language": "python",
   "name": "python3"
  },
  "language_info": {
   "codemirror_mode": {
    "name": "ipython",
    "version": 3
   },
   "file_extension": ".py",
   "mimetype": "text/x-python",
   "name": "python",
   "nbconvert_exporter": "python",
   "pygments_lexer": "ipython3",
   "version": "3.11.11"
  }
 },
 "nbformat": 4,
 "nbformat_minor": 2
}
