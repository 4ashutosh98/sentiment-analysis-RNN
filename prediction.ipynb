{
 "cells": [
  {
   "cell_type": "markdown",
   "metadata": {},
   "source": [
    "# Step 1: Import Libraries and Load the model"
   ]
  },
  {
   "cell_type": "code",
   "execution_count": 1,
   "metadata": {},
   "outputs": [],
   "source": [
    "import numpy as np\n",
    "import tensorflow as tf\n",
    "from tensorflow.keras.datasets import imdb\n",
    "from tensorflow.keras.preprocessing import sequence\n",
    "from tensorflow.keras.models import load_model"
   ]
  },
  {
   "cell_type": "markdown",
   "metadata": {},
   "source": [
    "## Load the IMDB dataset word index"
   ]
  },
  {
   "cell_type": "code",
   "execution_count": 2,
   "metadata": {},
   "outputs": [],
   "source": [
    "word_index = imdb.get_word_index()\n",
    "word_index = {v: k for k, v in word_index.items()}"
   ]
  },
  {
   "cell_type": "markdown",
   "metadata": {},
   "source": [
    "## Load the pre-trained model with ReLU activation"
   ]
  },
  {
   "cell_type": "code",
   "execution_count": 3,
   "metadata": {},
   "outputs": [
    {
     "name": "stderr",
     "output_type": "stream",
     "text": [
      "WARNING:absl:Compiled the loaded model, but the compiled metrics have yet to be built. `model.compile_metrics` will be empty until you train or evaluate the model.\n"
     ]
    },
    {
     "data": {
      "text/plain": [
       "<bound method Model.summary of <Sequential name=sequential, built=True>>"
      ]
     },
     "execution_count": 3,
     "metadata": {},
     "output_type": "execute_result"
    }
   ],
   "source": [
    "model = load_model('simple_rnn_imdb.h5')\n",
    "model.summary"
   ]
  },
  {
   "cell_type": "code",
   "execution_count": 4,
   "metadata": {},
   "outputs": [
    {
     "data": {
      "text/plain": [
       "[array([[-0.604994  , -1.6164702 , -1.3404027 , ...,  1.452552  ,\n",
       "         -1.4530427 ,  1.1951616 ],\n",
       "        [ 0.03677835,  0.02705484, -0.03259904, ...,  0.04654696,\n",
       "         -0.0021609 , -0.00602408],\n",
       "        [-0.01294003, -0.05480928, -0.01229953, ...,  0.08163316,\n",
       "          0.02475172, -0.01003647],\n",
       "        ...,\n",
       "        [-0.06162904, -0.05219355, -0.01908639, ..., -0.0443285 ,\n",
       "          0.06092162,  0.01540927],\n",
       "        [ 0.0491792 , -0.03369666,  0.08900153, ...,  0.01894498,\n",
       "         -0.02061728, -0.05201953],\n",
       "        [ 0.03819989,  0.10075977, -0.12833822, ...,  0.06371636,\n",
       "          0.04816379, -0.0946461 ]], dtype=float32),\n",
       " array([[ 0.02519284, -0.05402069,  0.12934811, ...,  0.13065028,\n",
       "          0.16053036,  0.05290191],\n",
       "        [-0.0925728 , -0.06355712, -0.15352675, ..., -0.08458126,\n",
       "         -0.0576027 ,  0.01912165],\n",
       "        [-0.13829015, -0.00907844,  0.05348331, ...,  0.03679181,\n",
       "          0.0926308 , -0.00124565],\n",
       "        ...,\n",
       "        [ 0.03513115,  0.08487447, -0.14088348, ..., -0.08999584,\n",
       "          0.11407131, -0.11291673],\n",
       "        [-0.08082891,  0.0222889 , -0.087555  , ..., -0.1678133 ,\n",
       "         -0.09583446,  0.002213  ],\n",
       "        [-0.15947877, -0.03294159,  0.08065224, ..., -0.10252394,\n",
       "          0.12568338, -0.15562269]], dtype=float32),\n",
       " array([[-0.08834238,  0.10890285,  0.0911158 , ..., -0.0781487 ,\n",
       "         -0.03948314, -0.02489393],\n",
       "        [-0.0359983 , -0.02454964, -0.05943931, ...,  0.01352526,\n",
       "          0.05833237, -0.13846935],\n",
       "        [ 0.10568164,  0.04735795,  0.09717027, ...,  0.06151529,\n",
       "         -0.01730027, -0.070893  ],\n",
       "        ...,\n",
       "        [-0.03033481, -0.08750696, -0.12007152, ...,  0.22906613,\n",
       "          0.01831683, -0.07274909],\n",
       "        [-0.0955845 , -0.11282787,  0.1800857 , ...,  0.00635554,\n",
       "          0.20563854, -0.04408244],\n",
       "        [-0.14200881,  0.05411165, -0.00419747, ..., -0.088448  ,\n",
       "          0.18607603,  0.02599449]], dtype=float32),\n",
       " array([-0.01923628, -0.01083783,  0.01814559,  0.0098591 , -0.02588243,\n",
       "         0.02876882,  0.01862282,  0.00232834,  0.02649148,  0.01768021,\n",
       "        -0.01213222, -0.02418477, -0.00574094,  0.01391122,  0.007286  ,\n",
       "        -0.00686617, -0.00242814,  0.02256265, -0.00576097,  0.01781771,\n",
       "        -0.01684349,  0.01662911, -0.0131592 , -0.01306822, -0.00845497,\n",
       "         0.02667527, -0.00977899, -0.00349372, -0.0119423 , -0.02167241,\n",
       "        -0.0259066 , -0.04254865,  0.00356897,  0.00473552, -0.01456002,\n",
       "        -0.00925993,  0.04349343,  0.02063938, -0.02964453,  0.00019252,\n",
       "        -0.02126678,  0.00904052,  0.00504011,  0.00698123,  0.00653   ,\n",
       "        -0.01084742, -0.0046839 ,  0.01255592, -0.00130112, -0.00719526,\n",
       "         0.01242151, -0.00251508, -0.02642126,  0.03338281,  0.02129146,\n",
       "        -0.01114075, -0.03931043, -0.02271264, -0.00535371, -0.00387953,\n",
       "        -0.01553852, -0.01259663, -0.04622399, -0.01230489, -0.00100594,\n",
       "         0.01312346,  0.01934223, -0.00171145, -0.00810292, -0.01164563,\n",
       "        -0.02118691, -0.0140806 , -0.08652446, -0.02829434,  0.02240148,\n",
       "        -0.00675263,  0.02687016, -0.01075285, -0.00700243,  0.01571342,\n",
       "        -0.00591739, -0.00365402, -0.00197973, -0.01655709, -0.0340977 ,\n",
       "        -0.01994779,  0.00140343,  0.02440105,  0.09794699,  0.00308392,\n",
       "         0.02412366,  0.01035968, -0.03166565, -0.02206518, -0.00643812,\n",
       "        -0.02057562, -0.00419629,  0.01649617,  0.0070997 ,  0.02207303,\n",
       "        -0.00183642,  0.01647813,  0.01506899, -0.00628628,  0.00255072,\n",
       "         0.0084488 ,  0.01126681,  0.001341  , -0.00927866,  0.02248551,\n",
       "         0.04633421,  0.00250514, -0.01572963,  0.01809805,  0.01428388,\n",
       "        -0.01497435,  0.12113745, -0.0113045 ,  0.01861657, -0.01340972,\n",
       "         0.02822838, -0.01607869,  0.01908914,  0.01325769, -0.01123635,\n",
       "         0.00043397,  0.02565829, -0.00734864], dtype=float32),\n",
       " array([[-0.10233843],\n",
       "        [ 0.08592158],\n",
       "        [-0.25593892],\n",
       "        [-0.15912482],\n",
       "        [-0.20014745],\n",
       "        [ 0.10604028],\n",
       "        [-0.13210176],\n",
       "        [ 0.20522949],\n",
       "        [-0.09847533],\n",
       "        [-0.16912577],\n",
       "        [ 0.14552422],\n",
       "        [ 0.32612845],\n",
       "        [ 0.054519  ],\n",
       "        [ 0.1453008 ],\n",
       "        [ 0.2634474 ],\n",
       "        [ 0.08654758],\n",
       "        [ 0.17771915],\n",
       "        [-0.10899449],\n",
       "        [ 0.0508314 ],\n",
       "        [-0.06228527],\n",
       "        [-0.08633669],\n",
       "        [-0.09332712],\n",
       "        [ 0.15627216],\n",
       "        [ 0.11037517],\n",
       "        [ 0.20958263],\n",
       "        [-0.26229757],\n",
       "        [ 0.00332913],\n",
       "        [-0.00164276],\n",
       "        [ 0.00481722],\n",
       "        [ 0.01896515],\n",
       "        [ 0.00221049],\n",
       "        [-0.43899557],\n",
       "        [-0.23762013],\n",
       "        [ 0.26005432],\n",
       "        [-0.07983185],\n",
       "        [ 0.03429002],\n",
       "        [ 0.0384565 ],\n",
       "        [-0.11075913],\n",
       "        [ 0.05217823],\n",
       "        [ 0.07676629],\n",
       "        [ 0.19360846],\n",
       "        [-0.28469416],\n",
       "        [ 0.0438668 ],\n",
       "        [ 0.20654319],\n",
       "        [ 0.0832511 ],\n",
       "        [-0.23994768],\n",
       "        [ 0.05592772],\n",
       "        [-0.21472885],\n",
       "        [ 0.09208403],\n",
       "        [ 0.02047444],\n",
       "        [-0.2033193 ],\n",
       "        [ 0.04467373],\n",
       "        [-0.21488757],\n",
       "        [-0.22352466],\n",
       "        [-0.13406639],\n",
       "        [ 0.09739166],\n",
       "        [-0.05336375],\n",
       "        [ 0.16315816],\n",
       "        [-0.04386657],\n",
       "        [ 0.21000634],\n",
       "        [ 0.568998  ],\n",
       "        [ 0.16795106],\n",
       "        [-0.8531824 ],\n",
       "        [ 0.22399542],\n",
       "        [-0.28667444],\n",
       "        [-0.11059749],\n",
       "        [ 0.18911928],\n",
       "        [ 0.17967393],\n",
       "        [ 0.21927646],\n",
       "        [-1.0352854 ],\n",
       "        [ 0.3576956 ],\n",
       "        [ 0.19036666],\n",
       "        [ 0.17618816],\n",
       "        [-0.1467939 ],\n",
       "        [ 0.31914607],\n",
       "        [ 0.20468189],\n",
       "        [ 0.10514322],\n",
       "        [ 0.9555969 ],\n",
       "        [-0.5098326 ],\n",
       "        [-0.18841957],\n",
       "        [ 0.23090208],\n",
       "        [ 0.18176286],\n",
       "        [ 0.18278557],\n",
       "        [ 0.0585018 ],\n",
       "        [-0.5011433 ],\n",
       "        [ 0.09244566],\n",
       "        [ 0.01032388],\n",
       "        [-0.07492796],\n",
       "        [ 0.269407  ],\n",
       "        [ 0.49210533],\n",
       "        [ 0.05141071],\n",
       "        [ 0.26199582],\n",
       "        [ 0.109524  ],\n",
       "        [ 0.18451737],\n",
       "        [ 0.19912449],\n",
       "        [-0.1634231 ],\n",
       "        [ 0.13129924],\n",
       "        [ 0.00848099],\n",
       "        [-0.18720542],\n",
       "        [-0.17907189],\n",
       "        [-0.08927205],\n",
       "        [ 0.13964309],\n",
       "        [-0.15834579],\n",
       "        [ 0.09862275],\n",
       "        [ 0.13213131],\n",
       "        [-0.09944927],\n",
       "        [ 0.03059356],\n",
       "        [-0.04868647],\n",
       "        [-0.05431537],\n",
       "        [-0.09610935],\n",
       "        [ 0.35144144],\n",
       "        [ 0.17217061],\n",
       "        [-0.0307851 ],\n",
       "        [ 0.01608821],\n",
       "        [-0.05991556],\n",
       "        [ 0.12927108],\n",
       "        [ 0.03462218],\n",
       "        [ 0.16545625],\n",
       "        [-0.21554428],\n",
       "        [ 0.03924571],\n",
       "        [-0.11565565],\n",
       "        [-0.00685043],\n",
       "        [ 0.00488282],\n",
       "        [-0.18731071],\n",
       "        [ 0.01362606],\n",
       "        [-0.28973988],\n",
       "        [-0.11708837],\n",
       "        [ 0.04353772]], dtype=float32),\n",
       " array([0.97871006], dtype=float32)]"
      ]
     },
     "execution_count": 4,
     "metadata": {},
     "output_type": "execute_result"
    }
   ],
   "source": [
    "model.get_weights()"
   ]
  },
  {
   "cell_type": "markdown",
   "metadata": {},
   "source": [
    "# Step 2: Helper functions\n",
    "\n",
    "## Function to decode the reviews"
   ]
  },
  {
   "cell_type": "code",
   "execution_count": 5,
   "metadata": {},
   "outputs": [],
   "source": [
    "def decode_review(encoded_review):\n",
    "    return \" \".join([reverse_word_index.get(word - 3, \"<unknown>\") for word in sample_review])"
   ]
  },
  {
   "cell_type": "markdown",
   "metadata": {},
   "source": [
    "## Function to preprocess the user input"
   ]
  },
  {
   "cell_type": "code",
   "execution_count": 6,
   "metadata": {},
   "outputs": [],
   "source": [
    "def preprocess_text(text):\n",
    "    words = text.lower().split()\n",
    "    encoded_review = [word_index.get(word, 2) + 3 for word in words]\n",
    "    padded_review = sequence.pad_sequences([encoded_review], maxlen= 500)\n",
    "    return padded_review"
   ]
  },
  {
   "cell_type": "markdown",
   "metadata": {},
   "source": [
    "# Step 3: Prediction\n",
    "\n",
    "## Prediction function"
   ]
  },
  {
   "cell_type": "code",
   "execution_count": 7,
   "metadata": {},
   "outputs": [],
   "source": [
    "def prediction_function(review):\n",
    "    preprocessed_input = preprocess_text(review)\n",
    "    prediction = model.predict(preprocessed_input)\n",
    "    sentiment = \"Positive\" if prediction > 0.5 else \"Negative\"\n",
    "    return sentiment, prediction[0][0]"
   ]
  },
  {
   "cell_type": "markdown",
   "metadata": {},
   "source": [
    "# Step 4: User Input and Prediction\n",
    "\n",
    "## Example review for prediction"
   ]
  },
  {
   "cell_type": "code",
   "execution_count": 8,
   "metadata": {},
   "outputs": [],
   "source": [
    "example_positive_review = \"This movie was very good. I liked the direction of the movie. The actors were great. The humor was on point. I would definitely watch it again.\"\n",
    "example_negative_review = \"Bad movie!!! I was really bored. Maybe they could have done a better job in the third act.\""
   ]
  },
  {
   "cell_type": "code",
   "execution_count": 9,
   "metadata": {},
   "outputs": [
    {
     "name": "stdout",
     "output_type": "stream",
     "text": [
      "\u001b[1m1/1\u001b[0m \u001b[32m━━━━━━━━━━━━━━━━━━━━\u001b[0m\u001b[37m\u001b[0m \u001b[1m0s\u001b[0m 223ms/step\n",
      "Positive Review: This movie was very good. I liked the direction of the movie. The actors were great. The humor was on point. I would definitely watch it again.\n",
      "Sentiment: Positive\n",
      "Prediciton Score: 0.74\n"
     ]
    }
   ],
   "source": [
    "positive_review_sentiment, positive_review_score = prediction_function(example_positive_review)\n",
    "\n",
    "print(f'Positive Review: {example_positive_review}')\n",
    "print(f'Sentiment: {positive_review_sentiment}')\n",
    "print(f'Prediciton Score: {positive_review_score:.2f}')"
   ]
  },
  {
   "cell_type": "code",
   "execution_count": 10,
   "metadata": {},
   "outputs": [
    {
     "name": "stdout",
     "output_type": "stream",
     "text": [
      "\u001b[1m1/1\u001b[0m \u001b[32m━━━━━━━━━━━━━━━━━━━━\u001b[0m\u001b[37m\u001b[0m \u001b[1m0s\u001b[0m 57ms/step\n",
      "Negative review: Bad movie!!! I was really bored. Maybe they could have done a better job in the third act.\n",
      "Sentiment: Negative\n",
      "Prediction Score: 0.03\n"
     ]
    }
   ],
   "source": [
    "negative_review_sentiment, negative_review_score = prediction_function(example_negative_review)\n",
    "\n",
    "print(f\"Negative review: {example_negative_review}\")\n",
    "print(f\"Sentiment: {negative_review_sentiment}\")\n",
    "print(f\"Prediction Score: {negative_review_score:.2f}\")"
   ]
  },
  {
   "cell_type": "code",
   "execution_count": null,
   "metadata": {},
   "outputs": [],
   "source": []
  }
 ],
 "metadata": {
  "kernelspec": {
   "display_name": "annrnn",
   "language": "python",
   "name": "python3"
  },
  "language_info": {
   "codemirror_mode": {
    "name": "ipython",
    "version": 3
   },
   "file_extension": ".py",
   "mimetype": "text/x-python",
   "name": "python",
   "nbconvert_exporter": "python",
   "pygments_lexer": "ipython3",
   "version": "3.11.11"
  }
 },
 "nbformat": 4,
 "nbformat_minor": 2
}
